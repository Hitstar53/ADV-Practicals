{
 "cells": [
  {
   "cell_type": "markdown",
   "metadata": {},
   "source": [
    "<style type=\"text/css\">\n",
    ".tf  {border-collapse:collapse;border-spacing:0;width:100%}\n",
    ".tf td{border-color:black;border-style:solid;border-width:1px;font-family:Arial, sans-serif;font-size:14px;\n",
    "  overflow:hidden;padding:10px 5px;word-break:normal;}\n",
    ".tf th{border-color:black;border-style:solid;border-width:1px;font-family:Arial, sans-serif;font-size:14px;\n",
    "  font-weight:normal;overflow:hidden;padding:10px 5px;word-break:normal;}\n",
    ".tf .tg-0pky{border-color:inherit;text-align:left;vertical-align:top}\n",
    ".col1 { width: 20%;}\n",
    ".col2 { width: 80%;}\n",
    "</style>\n",
    "<table class=\"tf\">\n",
    "<thead>\n",
    "  <tr>\n",
    "    <th class=\"tg-0pky col1\">Name</th>\n",
    "    <th class=\"tg-0pky col2\">Hatim Sawai</th>\n",
    "  </tr>\n",
    "</thead>\n",
    "<tbody>\n",
    "  <tr>\n",
    "    <td class=\"tg-0pky col1\">UID No.</td>\n",
    "    <td class=\"tg-0pky col2\">2021300108</td>\n",
    "  </tr>\n",
    "  <tr>\n",
    "    <td class=\"tg-0pky col1\">Course</td>\n",
    "    <td class=\"tg-0pky col2\">Advanced Data Visualization</td>\n",
    "  </tr>\n",
    "</tbody>\n",
    "</table>"
   ]
  },
  {
   "cell_type": "markdown",
   "metadata": {},
   "source": [
    "## <p style=\"text-align:center;font-weight:500;\">ADV LAB ESE</p>\n",
    "<style type=\"text/css\">\n",
    ".tg  {border-collapse:collapse;border-spacing:0;width:100%}\n",
    ".tg td{border-color:black;border-style:solid;border-width:1px;font-family:Arial, sans-serif;font-size:14px;\n",
    "  overflow:hidden;padding:10px 5px;word-break:normal;}\n",
    ".tg th{border-color:black;border-style:solid;border-width:1px;font-family:Arial, sans-serif;font-size:14px;\n",
    "  font-weight:normal;overflow:hidden;padding:10px 10px;word-break:normal;}\n",
    ".tg .tg-0pky{border-color:inherit;text-align:left;vertical-align:top;}\n",
    ".col1 { width: 20%;}\n",
    ".col2 { width: 80%;}\n",
    "</style>\n",
    "<table class=\"tg\">\n",
    "<thead>\n",
    "  <tr>\n",
    "    <th class=\"tg-0pky col1\">Aim</th>\n",
    "    <th class=\"tg-0pky col2\">\n",
    "      1. Write Aim here \n",
    "      <!-- <br>   -->\n",
    "    </th>\n",
    "  </tr>\n",
    "</thead>\n",
    "</table> "
   ]
  },
  {
   "cell_type": "markdown",
   "metadata": {},
   "source": [
    "### 1. Importing Libraries and Dataset"
   ]
  },
  {
   "cell_type": "code",
   "execution_count": 1,
   "metadata": {
    "vscode": {
     "languageId": "r"
    }
   },
   "outputs": [
    {
     "name": "stderr",
     "output_type": "stream",
     "text": [
      "\n",
      "Attaching package: 'dplyr'\n",
      "\n",
      "\n",
      "The following objects are masked from 'package:stats':\n",
      "\n",
      "    filter, lag\n",
      "\n",
      "\n",
      "The following objects are masked from 'package:base':\n",
      "\n",
      "    intersect, setdiff, setequal, union\n",
      "\n",
      "\n",
      "\n",
      "Attaching package: 'lubridate'\n",
      "\n",
      "\n",
      "The following objects are masked from 'package:base':\n",
      "\n",
      "    date, intersect, setdiff, union\n",
      "\n",
      "\n",
      "Loading required package: RColorBrewer\n",
      "\n",
      "\n",
      "Attaching package: 'plotly'\n",
      "\n",
      "\n",
      "The following object is masked from 'package:ggplot2':\n",
      "\n",
      "    last_plot\n",
      "\n",
      "\n",
      "The following object is masked from 'package:stats':\n",
      "\n",
      "    filter\n",
      "\n",
      "\n",
      "The following object is masked from 'package:graphics':\n",
      "\n",
      "    layout\n",
      "\n",
      "\n",
      "Loading required package: NLP\n",
      "\n",
      "\n",
      "Attaching package: 'NLP'\n",
      "\n",
      "\n",
      "The following object is masked from 'package:ggplot2':\n",
      "\n",
      "    annotate\n",
      "\n",
      "\n",
      "Package version: 4.1.0\n",
      "Unicode version: 15.1\n",
      "ICU version: 74.1\n",
      "\n",
      "Parallel computing: 16 of 16 threads used.\n",
      "\n",
      "See https://quanteda.io for tutorials and examples.\n",
      "\n",
      "\n",
      "Attaching package: 'quanteda'\n",
      "\n",
      "\n",
      "The following object is masked from 'package:tm':\n",
      "\n",
      "    stopwords\n",
      "\n",
      "\n",
      "The following objects are masked from 'package:NLP':\n",
      "\n",
      "    meta, meta<-\n",
      "\n",
      "\n"
     ]
    }
   ],
   "source": [
    "library(ggplot2)\n",
    "library(dplyr)\n",
    "library(lintr)\n",
    "library(lubridate)\n",
    "library(wordcloud)\n",
    "library(RColorBrewer)\n",
    "library(plotly)\n",
    "library(tm)\n",
    "library(quanteda)\n",
    "library(scatterplot3d)"
   ]
  },
  {
   "cell_type": "markdown",
   "metadata": {},
   "source": [
    "### 2. Data Preprocessing"
   ]
  },
  {
   "cell_type": "code",
   "execution_count": 2,
   "metadata": {
    "vscode": {
     "languageId": "r"
    }
   },
   "outputs": [
    {
     "data": {
      "text/html": [
       "<table class=\"dataframe\">\n",
       "<caption>A data.frame: 6 × 13</caption>\n",
       "<thead>\n",
       "\t<tr><th></th><th scope=col>price</th><th scope=col>area</th><th scope=col>bedrooms</th><th scope=col>bathrooms</th><th scope=col>stories</th><th scope=col>mainroad</th><th scope=col>guestroom</th><th scope=col>basement</th><th scope=col>hotwaterheating</th><th scope=col>airconditioning</th><th scope=col>parking</th><th scope=col>prefarea</th><th scope=col>furnishingstatus</th></tr>\n",
       "\t<tr><th></th><th scope=col>&lt;int&gt;</th><th scope=col>&lt;int&gt;</th><th scope=col>&lt;int&gt;</th><th scope=col>&lt;int&gt;</th><th scope=col>&lt;int&gt;</th><th scope=col>&lt;chr&gt;</th><th scope=col>&lt;chr&gt;</th><th scope=col>&lt;chr&gt;</th><th scope=col>&lt;chr&gt;</th><th scope=col>&lt;chr&gt;</th><th scope=col>&lt;int&gt;</th><th scope=col>&lt;chr&gt;</th><th scope=col>&lt;chr&gt;</th></tr>\n",
       "</thead>\n",
       "<tbody>\n",
       "\t<tr><th scope=row>1</th><td>13300000</td><td>7420</td><td>4</td><td>2</td><td>3</td><td>yes</td><td>no </td><td>no </td><td>no</td><td>yes</td><td>2</td><td>yes</td><td>furnished     </td></tr>\n",
       "\t<tr><th scope=row>2</th><td>12250000</td><td>8960</td><td>4</td><td>4</td><td>4</td><td>yes</td><td>no </td><td>no </td><td>no</td><td>yes</td><td>3</td><td>no </td><td>furnished     </td></tr>\n",
       "\t<tr><th scope=row>3</th><td>12250000</td><td>9960</td><td>3</td><td>2</td><td>2</td><td>yes</td><td>no </td><td>yes</td><td>no</td><td>no </td><td>2</td><td>yes</td><td>semi-furnished</td></tr>\n",
       "\t<tr><th scope=row>4</th><td>12215000</td><td>7500</td><td>4</td><td>2</td><td>2</td><td>yes</td><td>no </td><td>yes</td><td>no</td><td>yes</td><td>3</td><td>yes</td><td>furnished     </td></tr>\n",
       "\t<tr><th scope=row>5</th><td>11410000</td><td>7420</td><td>4</td><td>1</td><td>2</td><td>yes</td><td>yes</td><td>yes</td><td>no</td><td>yes</td><td>2</td><td>no </td><td>furnished     </td></tr>\n",
       "\t<tr><th scope=row>6</th><td>10850000</td><td>7500</td><td>3</td><td>3</td><td>1</td><td>yes</td><td>no </td><td>yes</td><td>no</td><td>yes</td><td>2</td><td>yes</td><td>semi-furnished</td></tr>\n",
       "</tbody>\n",
       "</table>\n"
      ],
      "text/latex": [
       "A data.frame: 6 × 13\n",
       "\\begin{tabular}{r|lllllllllllll}\n",
       "  & price & area & bedrooms & bathrooms & stories & mainroad & guestroom & basement & hotwaterheating & airconditioning & parking & prefarea & furnishingstatus\\\\\n",
       "  & <int> & <int> & <int> & <int> & <int> & <chr> & <chr> & <chr> & <chr> & <chr> & <int> & <chr> & <chr>\\\\\n",
       "\\hline\n",
       "\t1 & 13300000 & 7420 & 4 & 2 & 3 & yes & no  & no  & no & yes & 2 & yes & furnished     \\\\\n",
       "\t2 & 12250000 & 8960 & 4 & 4 & 4 & yes & no  & no  & no & yes & 3 & no  & furnished     \\\\\n",
       "\t3 & 12250000 & 9960 & 3 & 2 & 2 & yes & no  & yes & no & no  & 2 & yes & semi-furnished\\\\\n",
       "\t4 & 12215000 & 7500 & 4 & 2 & 2 & yes & no  & yes & no & yes & 3 & yes & furnished     \\\\\n",
       "\t5 & 11410000 & 7420 & 4 & 1 & 2 & yes & yes & yes & no & yes & 2 & no  & furnished     \\\\\n",
       "\t6 & 10850000 & 7500 & 3 & 3 & 1 & yes & no  & yes & no & yes & 2 & yes & semi-furnished\\\\\n",
       "\\end{tabular}\n"
      ],
      "text/markdown": [
       "\n",
       "A data.frame: 6 × 13\n",
       "\n",
       "| <!--/--> | price &lt;int&gt; | area &lt;int&gt; | bedrooms &lt;int&gt; | bathrooms &lt;int&gt; | stories &lt;int&gt; | mainroad &lt;chr&gt; | guestroom &lt;chr&gt; | basement &lt;chr&gt; | hotwaterheating &lt;chr&gt; | airconditioning &lt;chr&gt; | parking &lt;int&gt; | prefarea &lt;chr&gt; | furnishingstatus &lt;chr&gt; |\n",
       "|---|---|---|---|---|---|---|---|---|---|---|---|---|---|\n",
       "| 1 | 13300000 | 7420 | 4 | 2 | 3 | yes | no  | no  | no | yes | 2 | yes | furnished      |\n",
       "| 2 | 12250000 | 8960 | 4 | 4 | 4 | yes | no  | no  | no | yes | 3 | no  | furnished      |\n",
       "| 3 | 12250000 | 9960 | 3 | 2 | 2 | yes | no  | yes | no | no  | 2 | yes | semi-furnished |\n",
       "| 4 | 12215000 | 7500 | 4 | 2 | 2 | yes | no  | yes | no | yes | 3 | yes | furnished      |\n",
       "| 5 | 11410000 | 7420 | 4 | 1 | 2 | yes | yes | yes | no | yes | 2 | no  | furnished      |\n",
       "| 6 | 10850000 | 7500 | 3 | 3 | 1 | yes | no  | yes | no | yes | 2 | yes | semi-furnished |\n",
       "\n"
      ],
      "text/plain": [
       "  price    area bedrooms bathrooms stories mainroad guestroom basement\n",
       "1 13300000 7420 4        2         3       yes      no        no      \n",
       "2 12250000 8960 4        4         4       yes      no        no      \n",
       "3 12250000 9960 3        2         2       yes      no        yes     \n",
       "4 12215000 7500 4        2         2       yes      no        yes     \n",
       "5 11410000 7420 4        1         2       yes      yes       yes     \n",
       "6 10850000 7500 3        3         1       yes      no        yes     \n",
       "  hotwaterheating airconditioning parking prefarea furnishingstatus\n",
       "1 no              yes             2       yes      furnished       \n",
       "2 no              yes             3       no       furnished       \n",
       "3 no              no              2       yes      semi-furnished  \n",
       "4 no              yes             3       yes      furnished       \n",
       "5 no              yes             2       no       furnished       \n",
       "6 no              yes             2       yes      semi-furnished  "
      ]
     },
     "metadata": {},
     "output_type": "display_data"
    }
   ],
   "source": [
    "data <- read.csv(\"../Datasets/Housing.csv\")\n",
    "head(data)"
   ]
  },
  {
   "cell_type": "markdown",
   "metadata": {},
   "source": [
    "<p style=\"page-break-after:always;\"></p>"
   ]
  },
  {
   "cell_type": "markdown",
   "metadata": {},
   "source": [
    "### 3. Further Steps"
   ]
  },
  {
   "cell_type": "code",
   "execution_count": null,
   "metadata": {
    "vscode": {
     "languageId": "r"
    }
   },
   "outputs": [],
   "source": [
    "# code goes here"
   ]
  },
  {
   "cell_type": "markdown",
   "metadata": {},
   "source": [
    "<p style=\"page-break-after:always;\"></p>"
   ]
  },
  {
   "cell_type": "markdown",
   "metadata": {},
   "source": [
    "### Conclusion\n",
    "In this experiment, we learned"
   ]
  }
 ],
 "metadata": {
  "kernelspec": {
   "display_name": "R",
   "language": "R",
   "name": "ir"
  },
  "language_info": {
   "codemirror_mode": "r",
   "file_extension": ".r",
   "mimetype": "text/x-r-source",
   "name": "R",
   "pygments_lexer": "r",
   "version": "4.4.1"
  }
 },
 "nbformat": 4,
 "nbformat_minor": 2
}
